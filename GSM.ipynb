{
  "nbformat": 4,
  "nbformat_minor": 0,
  "metadata": {
    "colab": {
      "provenance": []
    },
    "kernelspec": {
      "name": "python3",
      "display_name": "Python 3"
    },
    "language_info": {
      "name": "python"
    }
  },
  "cells": [
    {
      "cell_type": "code",
      "execution_count": null,
      "metadata": {
        "colab": {
          "base_uri": "https://localhost:8080/"
        },
        "id": "JP6pob3zyT8F",
        "outputId": "bcee8db9-dfdf-40cd-f2a9-a6dea19fb9e9"
      },
      "outputs": [
        {
          "output_type": "stream",
          "name": "stdout",
          "text": [
            "128 Bit Key =  11101101000100100010101011110101001011101101011101011011010000101111101011111111010101001000111001111110111000110010110011011000\n",
            "128 Random Bits Generated =  1100011000111110001000011101100000001100111101110010111101010000010000100000111111110011001010011010101111001000010101011110010\n",
            "RES/SRES =  01111001111100111101010000001111\n"
          ]
        }
      ],
      "source": [
        "import random\n",
        "k=random.getrandbits(128)\n",
        "m=random.getrandbits(128)\n",
        "kb=bin(k)[2:]\n",
        "mb=bin(m)[2:]\n",
        "kbl=kb[0:64]\n",
        "kbr=kb[64:]\n",
        "mbl=mb[0:64]\n",
        "mbr=mb[64:]\n",
        "a1=int(kbl,2)^int(mbr,2)\n",
        "a2=int(kbr,2)^int(mbl,2)\n",
        "a3=a1^a2\n",
        "a4=bin(a3)[2:].zfill(64)\n",
        "a5=a4[0:32]\n",
        "a6=a4[32:]\n",
        "a7=int(a5,2)^int(a6,2)\n",
        "print(\"128 Bit Key = \",kb)\n",
        "print(\"128 Random Bits Generated = \",mb)\n",
        "print(\"RES/SRES = \",bin(a7)[2:].zfill(len(a5)))"
      ]
    },
    {
      "cell_type": "markdown",
      "source": [
        "Krishna R Vishwakarma B3-91"
      ],
      "metadata": {
        "id": "847FgZtjyXv7"
      }
    }
  ]
}